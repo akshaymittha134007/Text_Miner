{
 "cells": [
  {
   "cell_type": "markdown",
   "id": "2e84e43d-bfe2-4a85-8a9a-3fc8edb2d7ea",
   "metadata": {},
   "source": [
    "Infosys 6.0 Virtual Internship."
   ]
  },
  {
   "cell_type": "markdown",
   "id": "e24cdcdb-e180-44d8-905f-cd1779265d81",
   "metadata": {},
   "source": [
    "Sentiment Analysis."
   ]
  },
  {
   "cell_type": "code",
   "execution_count": 2,
   "id": "0e0dbceb-20c8-4964-a92a-708ddae5f42c",
   "metadata": {},
   "outputs": [
    {
     "ename": "TypeError",
     "evalue": "argument of type 'module' is not iterable",
     "output_type": "error",
     "traceback": [
      "\u001b[31m---------------------------------------------------------------------------\u001b[39m",
      "\u001b[31mTypeError\u001b[39m                                 Traceback (most recent call last)",
      "\u001b[36mCell\u001b[39m\u001b[36m \u001b[39m\u001b[32mIn[2]\u001b[39m\u001b[32m, line 48\u001b[39m\n\u001b[32m     46\u001b[39m \u001b[38;5;28;01mfor\u001b[39;00m test_word \u001b[38;5;129;01min\u001b[39;00m words:\n\u001b[32m     47\u001b[39m     score = \u001b[32m0\u001b[39m\n\u001b[32m---> \u001b[39m\u001b[32m48\u001b[39m     is_positive = \u001b[43mpositive_check\u001b[49m\u001b[43m(\u001b[49m\u001b[43mtest_word\u001b[49m\u001b[43m)\u001b[49m\n\u001b[32m     49\u001b[39m     is_negative = negative_check(test_word)\n\u001b[32m     50\u001b[39m     is_neutral = neutral_check(test_word)\n",
      "\u001b[36mCell\u001b[39m\u001b[36m \u001b[39m\u001b[32mIn[2]\u001b[39m\u001b[32m, line 33\u001b[39m, in \u001b[36mpositive_check\u001b[39m\u001b[34m(word)\u001b[39m\n\u001b[32m     32\u001b[39m \u001b[38;5;28;01mdef\u001b[39;00m\u001b[38;5;250m \u001b[39m\u001b[34mpositive_check\u001b[39m(word):\n\u001b[32m---> \u001b[39m\u001b[32m33\u001b[39m     \u001b[38;5;28;01mreturn\u001b[39;00m \u001b[43mword\u001b[49m\u001b[43m \u001b[49m\u001b[38;5;129;43;01min\u001b[39;49;00m\u001b[43m \u001b[49m\u001b[43mpositive_words\u001b[49m\n",
      "\u001b[31mTypeError\u001b[39m: argument of type 'module' is not iterable"
     ]
    }
   ],
   "source": [
    "from utils import positive_words\n",
    "from utils import negative_words\n",
    "from utils import neutral_words\n",
    "\n",
    "sample_sentences = [\n",
    "    'there was a cockroach in my soup',\n",
    "    'she gave a brilliant presentation',\n",
    "    'Have you tried any new restaurants or cafes recently',\n",
    "    'The player ran with the ball and scored a goal.',\n",
    "    'I went to the fridge for water and came back with cake.',\n",
    "    'The service was terrible and the food tasted awful.',\n",
    "    'It’s not that he lacked the ability to succeed; rather, he refused to put in the effort required to even begin',\n",
    "    'I ate a good sweet today in saturday market.',\n",
    "    'The food tasted amazing, but the service was slow, and the atmosphere was just okay.',\n",
    "    'i felt joyful after the exam',\n",
    "    'The movie was not bad, but it wasn’t exactly good either',\n",
    "    'The Actors did a great job with their acting ,but the movie was boring',\n",
    "    'Have you tried any new restaurants or cafes recently',\n",
    "    'An apple a day keeps the doctor away- if you throw it hard enough',\n",
    "    'He was chalant and helped his friend',\n",
    "    'the service was rude and the wait was too long',\n",
    "    'The computer generated a list of random numbers',\n",
    "    'The weather was horrible yesterday',\n",
    "    'While the weather was pleasant, the traffic made our journey stressful.',\n",
    "    'She received an award for her outstanding performance',\n",
    "    'The trip was exciting, but the weather was terrible, and the hotel was decent.',\n",
    "    'I hope it doesn’t rain tomorrow',\n",
    "    'His presentation was impressive, though he spoke too fast, and the slides were fine.',\n",
    "]\n",
    "\n",
    "\n",
    "def positive_check(word):\n",
    "    return word in positive_words\n",
    "\n",
    "\n",
    "def negative_check(word):\n",
    "    return word in negative_words\n",
    "\n",
    "\n",
    "def neutral_check(word):\n",
    "    return word in neutral_words\n",
    "\n",
    "for sentence in sample_sentences:\n",
    "    sentence_score = 0\n",
    "    words = sentence.split()\n",
    "    for test_word in words:\n",
    "        score = 0\n",
    "        is_positive = positive_check(test_word)\n",
    "        is_negative = negative_check(test_word)\n",
    "        is_neutral = neutral_check(test_word)\n",
    "        if is_positive:\n",
    "            score = score + 1\n",
    "        if is_negative:\n",
    "            score = score - 1\n",
    "        sentence_score += score\n",
    "    print(f\"{sentence} ===> {sentence_score}\")"
   ]
  },
  {
   "cell_type": "code",
   "execution_count": null,
   "id": "750e7f3a-7d64-4efb-852d-895c86c87e3c",
   "metadata": {},
   "outputs": [],
   "source": []
  },
  {
   "cell_type": "code",
   "execution_count": null,
   "id": "8f4c9ecb-631c-40da-918f-7026a412b414",
   "metadata": {},
   "outputs": [],
   "source": []
  },
  {
   "cell_type": "code",
   "execution_count": null,
   "id": "14110b90-3254-4388-acca-c459f2903cc4",
   "metadata": {},
   "outputs": [],
   "source": []
  },
  {
   "cell_type": "code",
   "execution_count": null,
   "id": "317d8140-f2b2-41b0-ac23-68a939d2dad8",
   "metadata": {},
   "outputs": [],
   "source": []
  },
  {
   "cell_type": "code",
   "execution_count": null,
   "id": "54191698-81b0-40d1-9b23-ea7be037bbdc",
   "metadata": {},
   "outputs": [],
   "source": []
  },
  {
   "cell_type": "code",
   "execution_count": null,
   "id": "b174b4eb-ad09-4a62-a6ee-1404dc8ce294",
   "metadata": {},
   "outputs": [],
   "source": []
  },
  {
   "cell_type": "code",
   "execution_count": null,
   "id": "876d3165-2e57-4601-93ea-52243ca35925",
   "metadata": {},
   "outputs": [],
   "source": []
  },
  {
   "cell_type": "code",
   "execution_count": null,
   "id": "d3fbbc0f-4a52-4ae8-922d-6b06f06ef48b",
   "metadata": {},
   "outputs": [],
   "source": []
  },
  {
   "cell_type": "code",
   "execution_count": null,
   "id": "9dc6b9ca-c1f9-4287-b40a-d2021c92bdf9",
   "metadata": {},
   "outputs": [],
   "source": []
  },
  {
   "cell_type": "code",
   "execution_count": null,
   "id": "437aa030-24bf-4cc4-89c9-1ceb1aecd5d3",
   "metadata": {},
   "outputs": [],
   "source": []
  }
 ],
 "metadata": {
  "kernelspec": {
   "display_name": "Python [conda env:base] *",
   "language": "python",
   "name": "conda-base-py"
  },
  "language_info": {
   "codemirror_mode": {
    "name": "ipython",
    "version": 3
   },
   "file_extension": ".py",
   "mimetype": "text/x-python",
   "name": "python",
   "nbconvert_exporter": "python",
   "pygments_lexer": "ipython3",
   "version": "3.13.5"
  }
 },
 "nbformat": 4,
 "nbformat_minor": 5
}
